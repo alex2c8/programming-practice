{
 "cells": [
  {
   "cell_type": "code",
   "execution_count": null,
   "metadata": {},
   "outputs": [],
   "source": [
    "import numpy as np\n",
    "from sympy import divisors, sieve\n",
    "from tqdm import tqdm\n",
    "import multiprocessing as mp"
   ]
  },
  {
   "cell_type": "code",
   "execution_count": null,
   "metadata": {},
   "outputs": [],
   "source": [
    "N = 1e8\n",
    "\n",
    "sieve._reset()\n",
    "sieve.extend(N)\n",
    "prime_set = set(sieve._list)\n",
    "\n",
    "is_prime = lambda x: x in prime_set\n",
    "\n",
    "def all_div_prime(n):\n",
    "    for d in divisors(n):\n",
    "        if not is_prime(d + n/d):\n",
    "            return False\n",
    "\n",
    "    return True\n",
    "\n",
    "def compute(batch):\n",
    "    s = 0\n",
    "    \n",
    "    for n in tqdm(batch):\n",
    "        if all_div_prime(n):\n",
    "            s += n\n",
    "    \n",
    "    return s"
   ]
  },
  {
   "cell_type": "code",
   "execution_count": null,
   "metadata": {},
   "outputs": [],
   "source": [
    "batches = np.arange(N, dtype=int).reshape(200, -1).tolist()\n",
    "\n",
    "pool = mp.Pool(processes=8)\n",
    "out = pool.map(compute, batches)\n",
    "\n",
    "sum(out)"
   ]
  }
 ],
 "metadata": {
  "kernelspec": {
   "display_name": "Python 3",
   "language": "python",
   "name": "python3"
  },
  "language_info": {
   "codemirror_mode": {
    "name": "ipython",
    "version": 3
   },
   "file_extension": ".py",
   "mimetype": "text/x-python",
   "name": "python",
   "nbconvert_exporter": "python",
   "pygments_lexer": "ipython3",
   "version": "3.7.6"
  }
 },
 "nbformat": 4,
 "nbformat_minor": 4
}
